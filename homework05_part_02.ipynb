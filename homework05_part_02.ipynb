{
 "cells": [
  {
   "cell_type": "markdown",
   "id": "65c0a122-f499-4d19-834a-92ed53596f70",
   "metadata": {},
   "source": [
    "# Weather API"
   ]
  },
  {
   "cell_type": "markdown",
   "id": "b2492a7a-7487-4dc0-89e1-951b892bb016",
   "metadata": {},
   "source": [
    "**1) Examine both Open Meteo and Tomorrow and decide which one you'd prefer to use. What drove your decision?**"
   ]
  },
  {
   "cell_type": "markdown",
   "id": "e9e498c6-0c73-4613-92f8-869a366e4053",
   "metadata": {},
   "source": [
    "**Open Meteo:**\n",
    "<br>\n",
    "_Pros:_\n",
    "- can add forecast and current to the same url\n",
    "- easy way to have an url, just by choosing parameters\n",
    "- it doesn't need a key\n",
    "\n",
    "_Cons:_\n",
    "- don't have much information on location, besides coordinates\n",
    "- not so easy to go through the layers"
   ]
  },
  {
   "cell_type": "markdown",
   "id": "f3816084-ad8e-4f4b-9146-60ca16303bb4",
   "metadata": {},
   "source": [
    "**2) What is the URL to the documentation?**"
   ]
  },
  {
   "cell_type": "markdown",
   "id": "223b1253-81e0-4b23-a6f0-d33dadbcd28b",
   "metadata": {},
   "source": [
    "Open Meteo: https://open-meteo.com/en/docs"
   ]
  },
  {
   "cell_type": "markdown",
   "id": "4914cad7-5dc3-4815-98f5-24de1bd086dd",
   "metadata": {},
   "source": [
    "**3) Make a request for the current weather where you are born, or somewhere you've lived.**"
   ]
  },
  {
   "cell_type": "code",
   "execution_count": 143,
   "id": "eafddd6c-8f6a-44ee-b29b-c302cc511834",
   "metadata": {},
   "outputs": [],
   "source": [
    "import requests\n",
    "from pprint import pprint"
   ]
  },
  {
   "cell_type": "code",
   "execution_count": 149,
   "id": "ff52a349-eb66-45d3-9396-f66a62a2d37c",
   "metadata": {
    "scrolled": true
   },
   "outputs": [
    {
     "data": {
      "text/plain": [
       "{'latitude': -15.75,\n",
       " 'longitude': -47.875,\n",
       " 'generationtime_ms': 0.10895729064941406,\n",
       " 'utc_offset_seconds': -10800,\n",
       " 'timezone': 'America/Sao_Paulo',\n",
       " 'timezone_abbreviation': 'GMT-3',\n",
       " 'elevation': 1134.0,\n",
       " 'current_units': {'time': 'iso8601',\n",
       "  'interval': 'seconds',\n",
       "  'temperature_2m': '°C',\n",
       "  'apparent_temperature': '°C'},\n",
       " 'current': {'time': '2025-06-11T00:30',\n",
       "  'interval': 900,\n",
       "  'temperature_2m': 15.8,\n",
       "  'apparent_temperature': 16.4},\n",
       " 'daily_units': {'time': 'iso8601',\n",
       "  'temperature_2m_max': '°C',\n",
       "  'temperature_2m_min': '°C',\n",
       "  'apparent_temperature_max': '°C',\n",
       "  'apparent_temperature_min': '°C'},\n",
       " 'daily': {'time': ['2025-06-11', '2025-06-12', '2025-06-13'],\n",
       "  'temperature_2m_max': [25.2, 24.3, 22.3],\n",
       "  'temperature_2m_min': [13.9, 12.6, 13.8],\n",
       "  'apparent_temperature_max': [25.6, 23.7, 20.9],\n",
       "  'apparent_temperature_min': [14.2, 11.9, 12.6]}}"
      ]
     },
     "execution_count": 149,
     "metadata": {},
     "output_type": "execute_result"
    }
   ],
   "source": [
    "# Open Meteo - Brasília Forecast\n",
    "response = requests.get(\"https://api.open-meteo.com/v1/forecast?latitude=-15.7797&longitude=-47.9297&daily=temperature_2m_max,temperature_2m_min,apparent_temperature_max,apparent_temperature_min&current=temperature_2m,apparent_temperature&timezone=America%2FSao_Paulo&forecast_days=3\")\n",
    "data = response.json()\n",
    "data"
   ]
  },
  {
   "cell_type": "markdown",
   "id": "df8a2cbd-cd82-418a-b3d5-c7f9a21bb321",
   "metadata": {},
   "source": [
    "**4) Print out the country this location is in.**"
   ]
  },
  {
   "cell_type": "code",
   "execution_count": 150,
   "id": "7f284770-f0d1-4d34-97e9-fbf3a6a93842",
   "metadata": {},
   "outputs": [
    {
     "data": {
      "text/plain": [
       "dict_keys(['latitude', 'longitude', 'generationtime_ms', 'utc_offset_seconds', 'timezone', 'timezone_abbreviation', 'elevation', 'current_units', 'current', 'daily_units', 'daily'])"
      ]
     },
     "execution_count": 150,
     "metadata": {},
     "output_type": "execute_result"
    }
   ],
   "source": [
    "data_meteo.keys()"
   ]
  },
  {
   "cell_type": "code",
   "execution_count": 151,
   "id": "9d46aeb6-6d6e-46b7-98cd-853e2db1aeff",
   "metadata": {},
   "outputs": [
    {
     "data": {
      "text/plain": [
       "'America/Sao_Paulo'"
      ]
     },
     "execution_count": 151,
     "metadata": {},
     "output_type": "execute_result"
    }
   ],
   "source": [
    "data_meteo[\"timezone\"]"
   ]
  },
  {
   "cell_type": "markdown",
   "id": "94ccc7de-e05a-40f8-aa37-4eef05b53690",
   "metadata": {},
   "source": [
    "Couldn't find a country parameter on Open Meteo API."
   ]
  },
  {
   "cell_type": "markdown",
   "id": "2a8c16e6-8514-4e06-b83c-971e49e8eae0",
   "metadata": {},
   "source": [
    "**5) Print out the difference between the current temperature and how warm it feels.**"
   ]
  },
  {
   "cell_type": "code",
   "execution_count": 152,
   "id": "9aab8833-ed17-4495-9ab6-2c66b828e71c",
   "metadata": {},
   "outputs": [
    {
     "data": {
      "text/plain": [
       "{'time': '2025-06-11T00:15',\n",
       " 'interval': 900,\n",
       " 'temperature_2m': 15.9,\n",
       " 'apparent_temperature': 16.5}"
      ]
     },
     "execution_count": 152,
     "metadata": {},
     "output_type": "execute_result"
    }
   ],
   "source": [
    "# Testing layers\n",
    "data_meteo[\"current\"]"
   ]
  },
  {
   "cell_type": "code",
   "execution_count": 153,
   "id": "106d34d8-95ea-43bd-87bd-36c4c3819d7b",
   "metadata": {},
   "outputs": [
    {
     "name": "stdout",
     "output_type": "stream",
     "text": [
      "It feels 0.6 degrees warmer.\n"
     ]
    }
   ],
   "source": [
    "# Answer:\n",
    "if data_meteo[\"current\"][\"temperature_2m\"] > data_meteo[\"current\"][\"apparent_temperature\"]:\n",
    "        cold = data_meteo[\"current\"][\"temperature_2m\"] - data_meteo[\"current\"][\"apparent_temperature\"]\n",
    "        print(\"It feels\", round(cold, 2), \"degrees colder.\")\n",
    "else:\n",
    "    warm = data_meteo[\"current\"][\"apparent_temperature\"] - data_meteo[\"current\"][\"temperature_2m\"]\n",
    "    print(\"It feels\", round(warm, 2), \"degrees warmer.\")"
   ]
  },
  {
   "cell_type": "markdown",
   "id": "46fe76ac-365c-4ca4-9d58-35ede3a17d16",
   "metadata": {},
   "source": [
    "**6) What's the current temperature at Heathrow International Airport? Use the airport's IATA code to search.**"
   ]
  },
  {
   "cell_type": "code",
   "execution_count": 154,
   "id": "28990c92-4834-446e-aa52-cb1a9a6e12ab",
   "metadata": {},
   "outputs": [
    {
     "data": {
      "text/plain": [
       "{'latitude': 51.46,\n",
       " 'longitude': -0.46000004,\n",
       " 'generationtime_ms': 0.07009506225585938,\n",
       " 'utc_offset_seconds': 3600,\n",
       " 'timezone': 'Europe/London',\n",
       " 'timezone_abbreviation': 'GMT+1',\n",
       " 'elevation': 23.0,\n",
       " 'current_units': {'time': 'iso8601',\n",
       "  'interval': 'seconds',\n",
       "  'temperature_2m': '°C',\n",
       "  'apparent_temperature': '°C',\n",
       "  'weather_code': 'wmo code'},\n",
       " 'current': {'time': '2025-06-11T04:30',\n",
       "  'interval': 900,\n",
       "  'temperature_2m': 12.1,\n",
       "  'apparent_temperature': 11.6,\n",
       "  'weather_code': 1}}"
      ]
     },
     "execution_count": 154,
     "metadata": {},
     "output_type": "execute_result"
    }
   ],
   "source": [
    "# Open Meteo - Heathrow Airport\n",
    "response_heathrow = requests.get(\"https://api.open-meteo.com/v1/forecast?latitude=51.4673&longitude=-0.4529&current=temperature_2m,apparent_temperature,weather_code&timezone=Europe%2FLondon&forecast_days=3\")\n",
    "data_heathrow = response_heathrow.json()\n",
    "data_heathrow"
   ]
  },
  {
   "cell_type": "code",
   "execution_count": 155,
   "id": "e9daa855-0d52-41a0-8b5b-b0e1c3e0a028",
   "metadata": {},
   "outputs": [
    {
     "name": "stdout",
     "output_type": "stream",
     "text": [
      "The current weather at Heathrow is 12.1 degrees Celsius.\n"
     ]
    }
   ],
   "source": [
    "print(f\"The current weather at Heathrow is {data_heathrow['current']['temperature_2m']} degrees Celsius.\")"
   ]
  },
  {
   "cell_type": "markdown",
   "id": "d0c9c051-63e2-4835-872e-5a09f2690f45",
   "metadata": {},
   "source": [
    "Couldn't find information based on Iata, only by latitude and longitude."
   ]
  },
  {
   "cell_type": "markdown",
   "id": "a149b61c-c44e-441f-b244-a3ea43c1efab",
   "metadata": {},
   "source": [
    "**7) What URL would I use to request a 3-day forecast at Heathrow?**"
   ]
  },
  {
   "cell_type": "code",
   "execution_count": 80,
   "id": "5d87e1e0-b670-44eb-8e63-aeea782727f9",
   "metadata": {},
   "outputs": [
    {
     "data": {
      "text/plain": [
       "'https://api.open-meteo.com/v1/forecast?latitude=-15.7797&longitude=-47.9297&daily=temperature_2m_max,temperature_2m_min,apparent_temperature_max,apparent_temperature_min&current=temperature_2m,apparent_temperature&timezone=America%2FSao_Paulo&forecast_days=3'"
      ]
     },
     "execution_count": 80,
     "metadata": {},
     "output_type": "execute_result"
    }
   ],
   "source": [
    "\"https://api.open-meteo.com/v1/forecast?latitude=-15.7797&longitude=-47.9297&daily=temperature_2m_max,temperature_2m_min,apparent_temperature_max,apparent_temperature_min&current=temperature_2m,apparent_temperature&timezone=America%2FSao_Paulo&forecast_days=3\""
   ]
  },
  {
   "cell_type": "markdown",
   "id": "a22d1e4c-541a-4494-b307-c32689e86665",
   "metadata": {},
   "source": [
    "**8) Print the date of each of the 3 days you're getting a forecast for.**"
   ]
  },
  {
   "cell_type": "code",
   "execution_count": 156,
   "id": "a084c356-7a53-4796-bf02-22f08e8685b1",
   "metadata": {},
   "outputs": [
    {
     "data": {
      "text/plain": [
       "dict_keys(['latitude', 'longitude', 'generationtime_ms', 'utc_offset_seconds', 'timezone', 'timezone_abbreviation', 'elevation', 'current_units', 'current', 'daily_units', 'daily'])"
      ]
     },
     "execution_count": 156,
     "metadata": {},
     "output_type": "execute_result"
    }
   ],
   "source": [
    "data.keys()"
   ]
  },
  {
   "cell_type": "code",
   "execution_count": 158,
   "id": "3bae4d1f-ca9b-4a4d-8621-752e7cb933b0",
   "metadata": {},
   "outputs": [
    {
     "data": {
      "text/plain": [
       "['2025-06-11', '2025-06-12', '2025-06-13']"
      ]
     },
     "execution_count": 158,
     "metadata": {},
     "output_type": "execute_result"
    }
   ],
   "source": [
    "data_meteo[\"daily\"][\"time\"]"
   ]
  },
  {
   "cell_type": "markdown",
   "id": "77da4ab9-19c2-4881-b318-88c4e2cc0f68",
   "metadata": {},
   "source": [
    "**9) Print the maximum temperature of each of the days.**"
   ]
  },
  {
   "cell_type": "code",
   "execution_count": 159,
   "id": "377bbaf1-4fa6-46dd-8ede-a86317b97f67",
   "metadata": {},
   "outputs": [
    {
     "name": "stdout",
     "output_type": "stream",
     "text": [
      "25.2\n",
      "24.3\n",
      "22.3\n"
     ]
    }
   ],
   "source": [
    "for temperature in data_meteo[\"daily\"][\"temperature_2m_max\"]:\n",
    "    print(temperature)"
   ]
  },
  {
   "cell_type": "markdown",
   "id": "4acd631f-8b08-4ee1-9c82-2238b5c180f1",
   "metadata": {},
   "source": [
    "**10) Print only the day with the highest maximum temperature.**"
   ]
  },
  {
   "cell_type": "code",
   "execution_count": 169,
   "id": "59ed5732-6799-47d3-baae-f95f2e38a4c6",
   "metadata": {},
   "outputs": [
    {
     "data": {
      "text/plain": [
       "{'time': ['2025-06-11', '2025-06-12', '2025-06-13'],\n",
       " 'temperature_2m_max': [25.2, 24.3, 22.3],\n",
       " 'temperature_2m_min': [13.9, 12.6, 13.8],\n",
       " 'apparent_temperature_max': [25.6, 23.7, 20.9],\n",
       " 'apparent_temperature_min': [14.2, 11.9, 12.6]}"
      ]
     },
     "execution_count": 169,
     "metadata": {},
     "output_type": "execute_result"
    }
   ],
   "source": [
    "data_meteo[\"daily\"]"
   ]
  },
  {
   "cell_type": "code",
   "execution_count": 173,
   "id": "d719f8fa-db76-4e69-b5a6-e5720ad4a9cc",
   "metadata": {},
   "outputs": [
    {
     "name": "stdout",
     "output_type": "stream",
     "text": [
      "The day with the max temp is 2025-06-11 which will be 25.2 degrees Celsius.\n"
     ]
    }
   ],
   "source": [
    "highest_temp = 0\n",
    "day = 0\n",
    "\n",
    "for date, temp in zip(data_meteo[\"daily\"][\"time\"], data_meteo[\"daily\"][\"temperature_2m_max\"]):\n",
    "    if temp > highest_temp:\n",
    "        highest_temp = temp\n",
    "        day = date\n",
    "\n",
    "print(f\"The day with the max temp is {day} which will be {highest_temp} degrees Celsius.\")"
   ]
  },
  {
   "cell_type": "markdown",
   "id": "6f0a470c-b604-4f34-a57c-b2ede90335c6",
   "metadata": {},
   "source": [
    "**11) Did you find this easier or more difficult than using the weatherapi.com, and why? Which would you recommend to someone interesting in building a tool around weather information?**"
   ]
  },
  {
   "cell_type": "markdown",
   "id": "7c8856c0-e3c8-4db8-96b4-ad2e6ce266ef",
   "metadata": {},
   "source": [
    "Open Meteo is not haaard, Tomorrow was worse. But Weather API seems more intuitive and has more detailed information (parameters)."
   ]
  },
  {
   "cell_type": "code",
   "execution_count": null,
   "id": "5ccb3de9-5027-428b-ac3d-5c8bab34368c",
   "metadata": {},
   "outputs": [],
   "source": []
  },
  {
   "cell_type": "code",
   "execution_count": null,
   "id": "652a6ee1-59eb-464d-95e4-3dfe91747c73",
   "metadata": {},
   "outputs": [],
   "source": []
  },
  {
   "cell_type": "code",
   "execution_count": null,
   "id": "5ca17d0a-ec6b-4b84-9dde-3553867eed75",
   "metadata": {},
   "outputs": [],
   "source": []
  }
 ],
 "metadata": {
  "kernelspec": {
   "display_name": "Python 3 (ipykernel)",
   "language": "python",
   "name": "python3"
  },
  "language_info": {
   "codemirror_mode": {
    "name": "ipython",
    "version": 3
   },
   "file_extension": ".py",
   "mimetype": "text/x-python",
   "name": "python",
   "nbconvert_exporter": "python",
   "pygments_lexer": "ipython3",
   "version": "3.12.10"
  }
 },
 "nbformat": 4,
 "nbformat_minor": 5
}
